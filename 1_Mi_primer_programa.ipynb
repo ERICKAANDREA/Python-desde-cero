{
  "nbformat": 4,
  "nbformat_minor": 0,
  "metadata": {
    "colab": {
      "provenance": [],
      "include_colab_link": true
    },
    "kernelspec": {
      "name": "python3",
      "display_name": "Python 3"
    },
    "language_info": {
      "name": "python"
    }
  },
  "cells": [
    {
      "cell_type": "markdown",
      "metadata": {
        "id": "view-in-github",
        "colab_type": "text"
      },
      "source": [
        "<a href=\"https://colab.research.google.com/github/ERICKAANDREA/Python-desde-cero/blob/main/1_Mi_primer_programa.ipynb\" target=\"_parent\"><img src=\"https://colab.research.google.com/assets/colab-badge.svg\" alt=\"Open In Colab\"/></a>"
      ]
    },
    {
      "cell_type": "markdown",
      "source": [
        "# Python Desde Cero 🐍\n",
        "\n",
        "Pyladies Panamá 🌻\n",
        "\n",
        "2022\n",
        "\n",
        "\n",
        "---\n",
        "\n",
        "Day 1 - PythonDesdeCero Challenge\n",
        "\n",
        "---"
      ],
      "metadata": {
        "id": "kgVyVRNADXrB"
      }
    },
    {
      "cell_type": "markdown",
      "source": [
        "# Nuestros primeros pasos"
      ],
      "metadata": {
        "id": "TzU1CXvgDbpV"
      }
    },
    {
      "cell_type": "code",
      "source": [
        "!python --version"
      ],
      "metadata": {
        "id": "9_DsOSBCEMjJ",
        "colab": {
          "base_uri": "https://localhost:8080/"
        },
        "outputId": "64d589f5-1dfc-4ce7-ffc6-2395944cbded"
      },
      "execution_count": 1,
      "outputs": [
        {
          "output_type": "stream",
          "name": "stdout",
          "text": [
            "Python 3.7.14\n"
          ]
        }
      ]
    },
    {
      "cell_type": "code",
      "source": [
        "print ('Hello World')"
      ],
      "metadata": {
        "id": "q9KqoOxpDisb",
        "colab": {
          "base_uri": "https://localhost:8080/"
        },
        "outputId": "c2479ae4-b981-42b6-89b2-7a220662c5a3"
      },
      "execution_count": 2,
      "outputs": [
        {
          "output_type": "stream",
          "name": "stdout",
          "text": [
            "Hello World\n"
          ]
        }
      ]
    },
    {
      "cell_type": "code",
      "execution_count": null,
      "metadata": {
        "id": "AKu4baTlDVwA"
      },
      "outputs": [],
      "source": [
        "#Example: Single Line Comment\n",
        "\n",
        "    # This is the first comment\n",
        "    # This is the second comment\n",
        "    # Python is eating the world"
      ]
    },
    {
      "cell_type": "code",
      "source": [
        "#Mi primer programa\n",
        "print ('Hello World')"
      ],
      "metadata": {
        "id": "E5AQiQBs6gZI",
        "colab": {
          "base_uri": "https://localhost:8080/"
        },
        "outputId": "6e077935-3e22-467a-89c2-4c2461c8c985"
      },
      "execution_count": 3,
      "outputs": [
        {
          "output_type": "stream",
          "name": "stdout",
          "text": [
            "Hello World\n"
          ]
        }
      ]
    },
    {
      "cell_type": "code",
      "source": [
        "'''\n",
        "Comment en varías líneas \n",
        "aaaa\n",
        "bbbb\n",
        "cccc\n",
        "ddd\n",
        "\n",
        "'''\n",
        "\n",
        "print ('Hello World')"
      ],
      "metadata": {
        "id": "Z8kaG6ESEKJe",
        "colab": {
          "base_uri": "https://localhost:8080/"
        },
        "outputId": "f5b83ef0-b5ac-438a-d8e8-1a77c630a728"
      },
      "execution_count": 4,
      "outputs": [
        {
          "output_type": "stream",
          "name": "stdout",
          "text": [
            "Hello World\n"
          ]
        }
      ]
    }
  ]
}