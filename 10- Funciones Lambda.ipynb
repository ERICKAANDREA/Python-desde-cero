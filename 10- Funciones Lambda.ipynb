{
  "nbformat": 4,
  "nbformat_minor": 0,
  "metadata": {
    "colab": {
      "provenance": [],
      "collapsed_sections": [],
      "include_colab_link": true
    },
    "kernelspec": {
      "name": "python3",
      "display_name": "Python 3"
    },
    "language_info": {
      "name": "python"
    }
  },
  "cells": [
    {
      "cell_type": "markdown",
      "metadata": {
        "id": "view-in-github",
        "colab_type": "text"
      },
      "source": [
        "<a href=\"https://colab.research.google.com/github/ERICKAANDREA/Python-desde-cero/blob/main/Ejercicio_10-%20Funciones%20Lambda.ipynb\" target=\"_parent\"><img src=\"https://colab.research.google.com/assets/colab-badge.svg\" alt=\"Open In Colab\"/></a>"
      ]
    },
    {
      "cell_type": "markdown",
      "source": [
        "# Python Desde Cero 🐍\n",
        "\n",
        "# Pyladies Panamá 🌻\n",
        "\n",
        "2022\n",
        "\n",
        "Day 8 - PythonDesdeCero Challenge Sábado 8/Octubre/2022\n",
        "\n",
        "---\n"
      ],
      "metadata": {
        "id": "1NBU401X3QM_"
      }
    },
    {
      "cell_type": "markdown",
      "source": [
        "# Ejercicio 10 - Funciones Lambda \n",
        "\n",
        "Dado el siguiente diccionario de 4 elementos, apliquemos las funciones:\n",
        "\n",
        "\n",
        "*   lambda()\n",
        "*   filter()\n",
        "\n"
      ],
      "metadata": {
        "id": "_tfI3hK63gVQ"
      }
    },
    {
      "cell_type": "code",
      "execution_count": null,
      "metadata": {
        "id": "Ne-9zuwU29MY"
      },
      "outputs": [],
      "source": [
        "superheroes = [\n",
        "    {\n",
        "        \"nombre\": \"Batman\",\n",
        "        \"editorial\": \"DC Comics\",\n",
        "        \"alter_ego\": \"Bruce Wayne\",\n",
        "        \"primera_aparicion\": \"Detective Comics #27\"\n",
        "    },\n",
        "    {\n",
        "        \"nombre\": \"Superman\",\n",
        "        \"editorial\": \"DC Comics\",\n",
        "        \"alter_ego\": \"Kal-El\",\n",
        "        \"primera_aparicion\": \"Action Comics #1\"\n",
        "    },\n",
        "    {\n",
        "        \"nombre\": \"Spider Man\",\n",
        "        \"editorial\": \"Marvel Comics\",\n",
        "        \"alter_ego\": \"Peter Parker\",\n",
        "        \"primera_aparicion\": \"Amazing Fantasy #15\"\n",
        "    },\n",
        "    {\n",
        "        \"nombre\": \"Hulk\",\n",
        "        \"editorial\": \"Marvel Comics\",\n",
        "        \"alter_ego\": \"Bruce Banner\",\n",
        "        \"primera_aparicion\": \"The Incredible Hulk #1\"\n",
        "    }\n",
        "]"
      ]
    },
    {
      "cell_type": "markdown",
      "source": [
        "# Caso 1: Busquemos todos los superheroes de DC."
      ],
      "metadata": {
        "id": "0iP2EuWg37-z"
      }
    },
    {
      "cell_type": "code",
      "source": [],
      "metadata": {
        "id": "RWGy8wct4AD1"
      },
      "execution_count": null,
      "outputs": []
    },
    {
      "cell_type": "markdown",
      "source": [
        "# Caso 2: Añadir a cada superheroe su poder. Como no quiero entrar en guerras innecesarias le daré un valor aleatorio entre 0 y 99.\n",
        "\n",
        "Tips:  \n",
        "\n",
        "\n",
        "1.   Use una función definida por el usuario para agregar el poder \n",
        "2.   Use la importe la librería random\n"
      ],
      "metadata": {
        "id": "OY2Ow7Wk5Cvw"
      }
    },
    {
      "cell_type": "code",
      "source": [
        "import random\n",
        "\n"
      ],
      "metadata": {
        "id": "5aETi1H35CUj"
      },
      "execution_count": null,
      "outputs": []
    },
    {
      "cell_type": "markdown",
      "source": [
        "# Caso 3\n",
        "Supongamos que necesitamos contar el números de superheroe que contiene el texto “man” en su nombre.\n",
        "\n",
        "Tips:  \n",
        "\n",
        "\n",
        "1.   Use una función definida por el usuario para validar el nombre \n",
        "2.   Use la importe la librería functools para usar reduce()"
      ],
      "metadata": {
        "id": "gYgQikNM6hGl"
      }
    },
    {
      "cell_type": "code",
      "source": [
        "from functools import reduce\n",
        "\n"
      ],
      "metadata": {
        "id": "pELvZksB6hbf"
      },
      "execution_count": null,
      "outputs": []
    }
  ]
}
