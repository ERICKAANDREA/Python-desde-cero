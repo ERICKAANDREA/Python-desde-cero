{
  "nbformat": 4,
  "nbformat_minor": 0,
  "metadata": {
    "colab": {
      "provenance": [],
      "include_colab_link": true
    },
    "kernelspec": {
      "name": "python3",
      "display_name": "Python 3"
    },
    "language_info": {
      "name": "python"
    }
  },
  "cells": [
    {
      "cell_type": "markdown",
      "metadata": {
        "id": "view-in-github",
        "colab_type": "text"
      },
      "source": [
        "<a href=\"https://colab.research.google.com/github/ERICKAANDREA/Python-desde-cero/blob/main/12_Datetime.ipynb\" target=\"_parent\"><img src=\"https://colab.research.google.com/assets/colab-badge.svg\" alt=\"Open In Colab\"/></a>"
      ]
    },
    {
      "cell_type": "markdown",
      "source": [
        "# Python Desde Cero 🐍\n",
        "\n",
        "# Pyladies Panamá 🌻\n",
        "\n",
        "2022\n",
        "\n",
        "Day 9 - PythonDesdeCero Challenge Sábado 15/Octubre/2022\n",
        "\n",
        "Referencia: \n",
        "*   https://github.com/Asabeneh/30-Days-Of-Python/blob/master/16_Day_Python_date_time/16_python_datetime.md\n",
        "\n",
        "*   https://strftime.org/\n",
        "\n"
      ],
      "metadata": {
        "id": "Damr8FTXD-Hs"
      }
    },
    {
      "cell_type": "code",
      "execution_count": null,
      "metadata": {
        "id": "WogSEW-mCOAd"
      },
      "outputs": [],
      "source": [
        "#Python has got datetime module to handle date and time.\n",
        "\n",
        "from datetime import datetime\n",
        "\n",
        "#The dir() method returns the list of valid attributes of the passed object.\n",
        "print(dir(datetime))\n"
      ]
    },
    {
      "cell_type": "code",
      "source": [
        "#Getting datetime Information\n",
        "from datetime import datetime\n",
        "now = datetime.now()\n",
        "print(now)                      # 2021-07-08 07:34:46.549883\n",
        "\n",
        "\n",
        "day = now.day                   # 15\n",
        "month = now.month               # 10\n",
        "year = now.year                 # 2022\n",
        "hour = now.hour                 # Hora miremos el reloj \n",
        "minute = now.minute             # Minuto miremos el reloj \n",
        "second = now.second             # Segundos miremos el reloj\n",
        "timestamp = now.timestamp()\n",
        "\n",
        "print(day, month, year, hour, minute)\n",
        "\n",
        "#Timestamp or Unix timestamp is the number of seconds elapsed from 1st of January 1970 UTC.\n",
        "print('timestamp', timestamp)\n",
        "\n",
        "print(f'{day}/{month}/{year}, {hour}:{minute}')  \n"
      ],
      "metadata": {
        "id": "JrqnZ4oKHgGP"
      },
      "execution_count": null,
      "outputs": []
    },
    {
      "cell_type": "code",
      "source": [
        "#Formatting Date Output Using strftime\n",
        "from datetime import datetime\n",
        "new_year = datetime(2022, 1, 1)\n",
        "print(new_year)      # 2022-01-01 00:00:00\n",
        "\n",
        "\n",
        "day = new_year.day\n",
        "month = new_year.month\n",
        "year = new_year.year\n",
        "hour = new_year.hour\n",
        "minute = new_year.minute\n",
        "second = new_year.second\n",
        "\n",
        "print(day, month, year, hour, minute) #1 1 2022 0 0\n",
        "\n",
        "print(f'{day}/{month}/{year}, {hour}:{minute}')  # 1/1/2022, 0:0\n",
        "\n",
        "#Formatting date time using strftime method (documentation)"
      ],
      "metadata": {
        "id": "GtfyWaALIJRg"
      },
      "execution_count": null,
      "outputs": []
    },
    {
      "cell_type": "code",
      "source": [
        "from datetime import datetime\n",
        "\n",
        "# current date and time\n",
        "now = datetime.now()\n",
        "t = now.strftime(\"%H:%M:%S\")\n",
        "print(\"time:\", t)\n",
        "time_one = now.strftime(\"%m/%d/%Y, %H:%M:%S\")\n",
        "# mm/dd/YY H:M:S format\n",
        "print(\"time one:\", time_one)\n",
        "time_two = now.strftime(\"%d/%m/%Y, %H:%M:%S\")\n",
        "# dd/mm/YY H:M:S format\n",
        "print(\"time two:\", time_two)\n"
      ],
      "metadata": {
        "id": "I--ePoC6IfZx"
      },
      "execution_count": null,
      "outputs": []
    },
    {
      "cell_type": "code",
      "source": [
        "#String to Time Using strptime\n",
        "#Here is a documentation hat helps to understand the format.\n",
        "\n",
        "from datetime import datetime\n",
        "date_string = \"5 December, 2022\"\n",
        "print(\"date_string =\", date_string)\n",
        "date_object = datetime.strptime(date_string, \"%d %B, %Y\")\n",
        "print(\"date_object =\", date_object)"
      ],
      "metadata": {
        "id": "cpuAjLLkJFHb"
      },
      "execution_count": null,
      "outputs": []
    },
    {
      "cell_type": "code",
      "source": [
        "#Using date from datetime\n",
        "\n",
        "from datetime import date\n",
        "d = date(2022, 1, 1)\n",
        "print(d)\n",
        "print('Current date:', d.today())    # 2022-12-05\n",
        "\n",
        "# date object of today's date\n",
        "today = date.today()\n",
        "print(\"Current year:\", today.year)   # 2022\n",
        "print(\"Current month:\", today.month) # 12\n",
        "print(\"Current day:\", today.day)     # 5"
      ],
      "metadata": {
        "id": "s--htNyiJMYZ"
      },
      "execution_count": null,
      "outputs": []
    },
    {
      "cell_type": "code",
      "source": [
        "#Time Objects to Represent Time\n",
        "\n",
        "from datetime import time\n",
        "# time(hour = 0, minute = 0, second = 0)\n",
        "a = time()\n",
        "print(\"a =\", a)\n",
        "\n",
        "\n",
        "# time(hour, minute and second)\n",
        "b = time(10, 30, 50)\n",
        "print(\"b =\", b)\n",
        "\n",
        "\n",
        "# time(hour, minute and second)\n",
        "c = time(hour=10, minute=30, second=50)\n",
        "print(\"c =\", c)\n",
        "\n",
        "\n",
        "# time(hour, minute, second, microsecond)\n",
        "d = time(10, 30, 50, 200555)\n",
        "print(\"d =\", d)"
      ],
      "metadata": {
        "id": "1r7RyWnBJXHx"
      },
      "execution_count": null,
      "outputs": []
    },
    {
      "cell_type": "code",
      "source": [
        "#Difference Between Two Points in Time Using\n",
        "today = date(year=2019, month=12, day=5)\n",
        "new_year = date(year=2020, month=1, day=1)\n",
        "time_left_for_newyear = new_year - today\n",
        "# Time left for new year:  27 days, 0:00:00\n",
        "print('Time left for new year: ', time_left_for_newyear)\n",
        "\n",
        "\n",
        "t1 = datetime(year = 2021, month = 12, day = 5, hour = 0, minute = 59, second = 0)\n",
        "t2 = datetime(year = 2022, month = 1, day = 1, hour = 0, minute = 0, second = 0)\n",
        "diff = t2 - t1\n",
        "print('Time left for new year:', diff) # Time left for new year: 26 days, 23: 01: 00"
      ],
      "metadata": {
        "id": "R-tN5XyjJgo1"
      },
      "execution_count": null,
      "outputs": []
    },
    {
      "cell_type": "code",
      "source": [
        "#Difference Between Two Points in Time Using timedelata\n",
        "from datetime import timedelta\n",
        "\n",
        "t1 = timedelta(weeks=12, days=10, hours=4, seconds=20)\n",
        "t2 = timedelta(days=7, hours=5, minutes=3, seconds=30)\n",
        "t3 = t1 - t2\n",
        "\n",
        "print(\"t3 =\", t3)"
      ],
      "metadata": {
        "id": "Y7my369TLYRD"
      },
      "execution_count": null,
      "outputs": []
    }
  ]
}