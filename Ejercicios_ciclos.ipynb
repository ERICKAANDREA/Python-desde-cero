{
  "nbformat": 4,
  "nbformat_minor": 0,
  "metadata": {
    "colab": {
      "provenance": [],
      "collapsed_sections": [],
      "authorship_tag": "ABX9TyO/fWTJkHAqatoNo8cGfyeb",
      "include_colab_link": true
    },
    "kernelspec": {
      "name": "python3",
      "display_name": "Python 3"
    },
    "language_info": {
      "name": "python"
    }
  },
  "cells": [
    {
      "cell_type": "markdown",
      "metadata": {
        "id": "view-in-github",
        "colab_type": "text"
      },
      "source": [
        "<a href=\"https://colab.research.google.com/github/ERICKAANDREA/Python-desde-cero/blob/main/Ejercicios_ciclos.ipynb\" target=\"_parent\"><img src=\"https://colab.research.google.com/assets/colab-badge.svg\" alt=\"Open In Colab\"/></a>"
      ]
    },
    {
      "cell_type": "markdown",
      "source": [
        "Listar los 5 primeros números"
      ],
      "metadata": {
        "id": "27mQPCDHsJLZ"
      }
    },
    {
      "cell_type": "code",
      "execution_count": null,
      "metadata": {
        "colab": {
          "base_uri": "https://localhost:8080/"
        },
        "id": "_qenEn83gcj8",
        "outputId": "7ff29d79-eca2-41a8-a6e9-64cecf186652"
      },
      "outputs": [
        {
          "output_type": "stream",
          "name": "stdout",
          "text": [
            "Números 1\n",
            "Números 2\n",
            "Números 3\n",
            "Números 4\n",
            "Números 5\n",
            "Números 6\n",
            "Números 7\n",
            "Números 8\n",
            "Números 9\n",
            "Números 10\n"
          ]
        }
      ],
      "source": [
        "for i in range (1,11):\n",
        "  print ('Números',i)\n"
      ]
    },
    {
      "cell_type": "markdown",
      "source": [
        "Listar los 5 primeros números y sumarlos entre ellos"
      ],
      "metadata": {
        "id": "jf6hELTmsOom"
      }
    },
    {
      "cell_type": "code",
      "source": [
        "suma=0\n",
        "for i in range (1,6):\n",
        "  suma= suma+i\n",
        "  print(\"La suma de los cinco primeros números es: \",suma)"
      ],
      "metadata": {
        "colab": {
          "base_uri": "https://localhost:8080/"
        },
        "id": "_8nHZiMVsV2H",
        "outputId": "729ef085-7591-4fd4-8c44-2b542f1001bb"
      },
      "execution_count": null,
      "outputs": [
        {
          "output_type": "stream",
          "name": "stdout",
          "text": [
            "La suma de los cinco primeros números es:  1\n",
            "La suma de los cinco primeros números es:  3\n",
            "La suma de los cinco primeros números es:  6\n",
            "La suma de los cinco primeros números es:  10\n",
            "La suma de los cinco primeros números es:  15\n"
          ]
        }
      ]
    },
    {
      "cell_type": "markdown",
      "source": [
        "Algoritmo para sumar los números pares entre cero y un límite establecido por el usuario."
      ],
      "metadata": {
        "id": "DOWxGoEdxcaa"
      }
    },
    {
      "cell_type": "code",
      "source": [
        "sumaPares= 0\n",
        "numero=(input(\"Ingrese un número límite \"))\n",
        "\n",
        "for i in range (0,int(numero)+1):\n",
        "  if(i%2==0):\n",
        "    sumaPares= sumaPares+i\n",
        "\n",
        "  print(\"La suma de los números pares en los rangos establecidos es: \", sumaPares) "
      ],
      "metadata": {
        "colab": {
          "base_uri": "https://localhost:8080/"
        },
        "id": "QI0RyWMaxrqP",
        "outputId": "c0cb201b-8e2c-4e10-83df-b73848733ed3"
      },
      "execution_count": null,
      "outputs": [
        {
          "output_type": "stream",
          "name": "stdout",
          "text": [
            "Ingrese un número límite 12\n",
            "La suma de los números pares en los rangos establecidos es:  0\n",
            "La suma de los números pares en los rangos establecidos es:  0\n",
            "La suma de los números pares en los rangos establecidos es:  2\n",
            "La suma de los números pares en los rangos establecidos es:  2\n",
            "La suma de los números pares en los rangos establecidos es:  6\n",
            "La suma de los números pares en los rangos establecidos es:  6\n",
            "La suma de los números pares en los rangos establecidos es:  12\n",
            "La suma de los números pares en los rangos establecidos es:  12\n",
            "La suma de los números pares en los rangos establecidos es:  20\n",
            "La suma de los números pares en los rangos establecidos es:  20\n",
            "La suma de los números pares en los rangos establecidos es:  30\n",
            "La suma de los números pares en los rangos establecidos es:  30\n",
            "La suma de los números pares en los rangos establecidos es:  42\n"
          ]
        }
      ]
    }
  ]
}